{
 "cells": [
  {
   "cell_type": "markdown",
   "metadata": {},
   "source": [
    "# List of active United States Military Aircraft\n",
    "\n",
    "This is a project to visualize a list of **active** military aircraft that are used by the United States military. This will not include aircraft that is no longer in-service.\n",
    "\n",
    "### Contents:\n",
    "- Business Request & User Stories\n",
    "- Data Cleansing & Transformation (Python)\n",
    "- Data Model\n",
    "- Active US Military Aircraft Dashboard"
   ]
  },
  {
   "cell_type": "markdown",
   "metadata": {},
   "source": [
    "## Business Request & User Stories \n",
    "\n",
    "The business request for this data analyst project was an executive military aircraft report for enthusiasts. Based on the request that was made from the business (aka me), the following user stories were defined to fulfill delivery and ensure that acceptance criteria was maintained throughout the project.\n",
    "\n",
    "\n",
    "| #\tAs a (role) | I want (request / demand) | So that I (user value) | Acceptance Criteria\n",
    "| :- | :- | :- | :- \n",
    "| 1. Military dude | To get a dashboard overview of active US military aircraft | Can follow better what aircraft is in use | A Power BI dashboard which updates data upon refresh\n",
    "| 2. Veteran | A detailed overview of Aircraft per Branch | Can follow what aircraft is in use by each branch | A Power BI dashboard which allows me to filter data for each branch\n",
    "| 3. Sales Representative | A detailed overview of Aircraft per Manufacturer | Can follow up which Manufacturer and aircraft is most in use | A Power BI dashboard which allows me to filter data for each Manufacturer\n",
    "| 4. Time Traveler | A dashboard overview of Aircraft introduction dates | Follow aircraft in service over date introduced | A Power Bi dashboard with graphs to filter by dates ascending"
   ]
  },
  {
   "cell_type": "markdown",
   "metadata": {},
   "source": [
    "## Data Cleansing & Transformation (Python)\n",
    "\n",
    "To create the necessary data model for doing analysis and fulfilling the business needs defined in the user stories, we will be using pandas, requests, and beautifulsoup to webscrape a wikipedia page.\n",
    "\n",
    "Source: https://en.wikipedia.org/wiki/List_of_active_United_States_military_aircraft"
   ]
  },
  {
   "cell_type": "code",
   "execution_count": 1,
   "metadata": {},
   "outputs": [],
   "source": [
    "import pandas as pd\n",
    "import requests\n",
    "import numpy as np\n",
    "import re\n",
    "from bs4 import BeautifulSoup"
   ]
  },
  {
   "cell_type": "code",
   "execution_count": 2,
   "metadata": {},
   "outputs": [
    {
     "name": "stdout",
     "output_type": "stream",
     "text": [
      "(162, 14)\n"
     ]
    }
   ],
   "source": [
    "page = requests.get('https://en.wikipedia.org/wiki/List_of_active_United_States_military_aircraft').text\n",
    "soup = BeautifulSoup(page, 'html.parser')\n",
    "table = soup.find_all('table', class_=\"wikitable sortable\")\n",
    "\n",
    "df = pd.read_html(str(table))\n",
    "df = pd.concat(df)\n",
    "print(df.shape)"
   ]
  },
  {
   "cell_type": "markdown",
   "metadata": {},
   "source": [
    "### Reading data in pandas"
   ]
  },
  {
   "cell_type": "code",
   "execution_count": 3,
   "metadata": {},
   "outputs": [
    {
     "data": {
      "text/plain": [
       "Index(['Aircraft', 'Manufacturer', 'Origin', 'Propulsion', 'Role', 'Control',\n",
       "       'Introduced', 'In service[1][2][3]', 'Total', 'Notes', 'Type',\n",
       "       'In service[15]', 'In service[22]', 'In service[23][24]'],\n",
       "      dtype='object')"
      ]
     },
     "execution_count": 3,
     "metadata": {},
     "output_type": "execute_result"
    }
   ],
   "source": [
    "# Read headers\n",
    "df.columns"
   ]
  },
  {
   "cell_type": "code",
   "execution_count": 4,
   "metadata": {},
   "outputs": [
    {
     "data": {
      "text/plain": [
       "Index(['aircraft', 'manufacturer', 'origin', 'propulsion', 'role', 'control',\n",
       "       'introduced', 'in_service[1][2][3]', 'total', 'notes', 'type',\n",
       "       'in_service[15]', 'in_service[22]', 'in_service[23][24]'],\n",
       "      dtype='object')"
      ]
     },
     "execution_count": 4,
     "metadata": {},
     "output_type": "execute_result"
    }
   ],
   "source": [
    "# !pip install -U klib\n",
    "\n",
    "import klib\n",
    "\n",
    "# Clean columns using klib library\n",
    "df = klib.clean_column_names(df) # cleans and standardizes column names\n",
    "df = klib.convert_datatypes(df) # converts existing to more efficient dtypes\n",
    "\n",
    "df.columns"
   ]
  },
  {
   "cell_type": "markdown",
   "metadata": {},
   "source": [
    "### Make changes to the data"
   ]
  },
  {
   "cell_type": "code",
   "execution_count": 5,
   "metadata": {},
   "outputs": [
    {
     "data": {
      "text/html": [
       "<div>\n",
       "<style scoped>\n",
       "    .dataframe tbody tr th:only-of-type {\n",
       "        vertical-align: middle;\n",
       "    }\n",
       "\n",
       "    .dataframe tbody tr th {\n",
       "        vertical-align: top;\n",
       "    }\n",
       "\n",
       "    .dataframe thead th {\n",
       "        text-align: right;\n",
       "    }\n",
       "</style>\n",
       "<table border=\"1\" class=\"dataframe\">\n",
       "  <thead>\n",
       "    <tr style=\"text-align: right;\">\n",
       "      <th></th>\n",
       "      <th>aircraft</th>\n",
       "      <th>manufacturer</th>\n",
       "      <th>origin</th>\n",
       "      <th>propulsion</th>\n",
       "      <th>role</th>\n",
       "      <th>control</th>\n",
       "      <th>introduced</th>\n",
       "      <th>in_service[1][2][3]</th>\n",
       "      <th>total</th>\n",
       "      <th>notes</th>\n",
       "      <th>type</th>\n",
       "      <th>in_service[15]</th>\n",
       "      <th>in_service[22]</th>\n",
       "      <th>in_service[23][24]</th>\n",
       "    </tr>\n",
       "  </thead>\n",
       "  <tbody>\n",
       "    <tr>\n",
       "      <th>25</th>\n",
       "      <td>MH-60 Seahawk</td>\n",
       "      <td>Sikorsky</td>\n",
       "      <td>USA</td>\n",
       "      <td>Helicopter</td>\n",
       "      <td>Anti-submarine warfare helicopterMulti-mission</td>\n",
       "      <td>Manned</td>\n",
       "      <td>1984</td>\n",
       "      <td>&lt;NA&gt;</td>\n",
       "      <td>NaN</td>\n",
       "      <td>&lt;NA&gt;</td>\n",
       "      <td>MH-60 Seahawk</td>\n",
       "      <td>508</td>\n",
       "      <td>&lt;NA&gt;</td>\n",
       "      <td>&lt;NA&gt;</td>\n",
       "    </tr>\n",
       "    <tr>\n",
       "      <th>26</th>\n",
       "      <td>TH-57B/C Sea Ranger</td>\n",
       "      <td>Bell</td>\n",
       "      <td>USA</td>\n",
       "      <td>Helicopter</td>\n",
       "      <td>Trainer</td>\n",
       "      <td>Manned</td>\n",
       "      <td>1984</td>\n",
       "      <td>&lt;NA&gt;</td>\n",
       "      <td>NaN</td>\n",
       "      <td>To be replaced by the AgustaWestland TH-57A Th...</td>\n",
       "      <td>TH-57B/C Sea Ranger</td>\n",
       "      <td>114</td>\n",
       "      <td>&lt;NA&gt;</td>\n",
       "      <td>&lt;NA&gt;</td>\n",
       "    </tr>\n",
       "    <tr>\n",
       "      <th>27</th>\n",
       "      <td>ScanEagle</td>\n",
       "      <td>Boeing</td>\n",
       "      <td>USA</td>\n",
       "      <td>Propeller</td>\n",
       "      <td>&lt;NA&gt;</td>\n",
       "      <td>Unmanned</td>\n",
       "      <td>2005</td>\n",
       "      <td>&lt;NA&gt;</td>\n",
       "      <td>NaN</td>\n",
       "      <td>&lt;NA&gt;</td>\n",
       "      <td>ScanEagle</td>\n",
       "      <td>&lt;NA&gt;</td>\n",
       "      <td>&lt;NA&gt;</td>\n",
       "      <td>&lt;NA&gt;</td>\n",
       "    </tr>\n",
       "    <tr>\n",
       "      <th>28</th>\n",
       "      <td>RQ-21A Blackjack</td>\n",
       "      <td>Boeing Insitu</td>\n",
       "      <td>USA</td>\n",
       "      <td>Propeller</td>\n",
       "      <td>&lt;NA&gt;</td>\n",
       "      <td>Unmanned</td>\n",
       "      <td>2014</td>\n",
       "      <td>&lt;NA&gt;</td>\n",
       "      <td>NaN</td>\n",
       "      <td>&lt;NA&gt;</td>\n",
       "      <td>RQ-21A Blackjack</td>\n",
       "      <td>&lt;NA&gt;</td>\n",
       "      <td>&lt;NA&gt;</td>\n",
       "      <td>&lt;NA&gt;</td>\n",
       "    </tr>\n",
       "    <tr>\n",
       "      <th>29</th>\n",
       "      <td>MQ-8B Fire Scout</td>\n",
       "      <td>Northrop Grumman</td>\n",
       "      <td>USA</td>\n",
       "      <td>Helicopter</td>\n",
       "      <td>Patrol</td>\n",
       "      <td>Unmanned</td>\n",
       "      <td>2009</td>\n",
       "      <td>&lt;NA&gt;</td>\n",
       "      <td>NaN</td>\n",
       "      <td>Helicopter. 96 planned.[33]</td>\n",
       "      <td>MQ-8B Fire Scout</td>\n",
       "      <td>27[27]</td>\n",
       "      <td>&lt;NA&gt;</td>\n",
       "      <td>&lt;NA&gt;</td>\n",
       "    </tr>\n",
       "  </tbody>\n",
       "</table>\n",
       "</div>"
      ],
      "text/plain": [
       "               aircraft      manufacturer origin  propulsion  \\\n",
       "25        MH-60 Seahawk          Sikorsky    USA  Helicopter   \n",
       "26  TH-57B/C Sea Ranger              Bell    USA  Helicopter   \n",
       "27            ScanEagle            Boeing    USA   Propeller   \n",
       "28     RQ-21A Blackjack     Boeing Insitu    USA   Propeller   \n",
       "29     MQ-8B Fire Scout  Northrop Grumman    USA  Helicopter   \n",
       "\n",
       "                                              role   control introduced  \\\n",
       "25  Anti-submarine warfare helicopterMulti-mission    Manned       1984   \n",
       "26                                         Trainer    Manned       1984   \n",
       "27                                            <NA>  Unmanned       2005   \n",
       "28                                            <NA>  Unmanned       2014   \n",
       "29                                          Patrol  Unmanned       2009   \n",
       "\n",
       "   in_service[1][2][3] total  \\\n",
       "25                <NA>   NaN   \n",
       "26                <NA>   NaN   \n",
       "27                <NA>   NaN   \n",
       "28                <NA>   NaN   \n",
       "29                <NA>   NaN   \n",
       "\n",
       "                                                notes                 type  \\\n",
       "25                                               <NA>        MH-60 Seahawk   \n",
       "26  To be replaced by the AgustaWestland TH-57A Th...  TH-57B/C Sea Ranger   \n",
       "27                                               <NA>            ScanEagle   \n",
       "28                                               <NA>     RQ-21A Blackjack   \n",
       "29                        Helicopter. 96 planned.[33]     MQ-8B Fire Scout   \n",
       "\n",
       "   in_service[15]  in_service[22] in_service[23][24]  \n",
       "25            508            <NA>               <NA>  \n",
       "26            114            <NA>               <NA>  \n",
       "27           <NA>            <NA>               <NA>  \n",
       "28           <NA>            <NA>               <NA>  \n",
       "29         27[27]            <NA>               <NA>  "
      ]
     },
     "execution_count": 5,
     "metadata": {},
     "output_type": "execute_result"
    }
   ],
   "source": [
    "# Assign values from \"type\" column if \"aircraft\" is blank\n",
    "df.aircraft = df.aircraft.replace('', pd.NA).fillna(df.type)\n",
    "df.tail()"
   ]
  },
  {
   "cell_type": "code",
   "execution_count": 6,
   "metadata": {},
   "outputs": [
    {
     "data": {
      "text/plain": [
       "aircraft                 string\n",
       "manufacturer             string\n",
       "origin                   string\n",
       "propulsion             category\n",
       "role                     string\n",
       "control                category\n",
       "introduced               object\n",
       "in_service[1][2][3]      string\n",
       "total                    object\n",
       "notes                    string\n",
       "type                     string\n",
       "in_service[15]           string\n",
       "in_service[22]          Float32\n",
       "in_service[23][24]       string\n",
       "dtype: object"
      ]
     },
     "execution_count": 6,
     "metadata": {},
     "output_type": "execute_result"
    }
   ],
   "source": [
    "# Review dtypes before working with re\n",
    "df.dtypes"
   ]
  },
  {
   "cell_type": "code",
   "execution_count": 7,
   "metadata": {},
   "outputs": [
    {
     "data": {
      "text/plain": [
       "aircraft                 string\n",
       "manufacturer             string\n",
       "origin                   string\n",
       "propulsion             category\n",
       "role                     string\n",
       "control                category\n",
       "introduced               object\n",
       "in_service[1][2][3]      string\n",
       "total                    object\n",
       "notes                    string\n",
       "type                     string\n",
       "in_service[15]           string\n",
       "in_service[22]           string\n",
       "in_service[23][24]       string\n",
       "dtype: object"
      ]
     },
     "execution_count": 7,
     "metadata": {},
     "output_type": "execute_result"
    }
   ],
   "source": [
    "# We see that one column is still an object so we need to convert 'in_service[22]' column into a string\n",
    "df['in_service[22]'] = df['in_service[22]'].astype('string')\n",
    "\n",
    "df.dtypes"
   ]
  },
  {
   "cell_type": "code",
   "execution_count": null,
   "metadata": {},
   "outputs": [],
   "source": [
    "# Replace all NaN values with blank\n",
    "df = df.replace(np.nan, '', regex=True)"
   ]
  },
  {
   "cell_type": "code",
   "execution_count": 9,
   "metadata": {},
   "outputs": [
    {
     "data": {
      "text/html": [
       "<div>\n",
       "<style scoped>\n",
       "    .dataframe tbody tr th:only-of-type {\n",
       "        vertical-align: middle;\n",
       "    }\n",
       "\n",
       "    .dataframe tbody tr th {\n",
       "        vertical-align: top;\n",
       "    }\n",
       "\n",
       "    .dataframe thead th {\n",
       "        text-align: right;\n",
       "    }\n",
       "</style>\n",
       "<table border=\"1\" class=\"dataframe\">\n",
       "  <thead>\n",
       "    <tr style=\"text-align: right;\">\n",
       "      <th></th>\n",
       "      <th>aircraft</th>\n",
       "      <th>manufacturer</th>\n",
       "      <th>origin</th>\n",
       "      <th>propulsion</th>\n",
       "      <th>role</th>\n",
       "      <th>control</th>\n",
       "      <th>introduced</th>\n",
       "      <th>total</th>\n",
       "      <th>notes</th>\n",
       "      <th>in_service</th>\n",
       "    </tr>\n",
       "  </thead>\n",
       "  <tbody>\n",
       "    <tr>\n",
       "      <th>0</th>\n",
       "      <td>A-10C Thunderbolt II</td>\n",
       "      <td>Fairchild Republic</td>\n",
       "      <td>USA</td>\n",
       "      <td>Jet</td>\n",
       "      <td>CAS / Attack</td>\n",
       "      <td>Manned</td>\n",
       "      <td>1977</td>\n",
       "      <td></td>\n",
       "      <td></td>\n",
       "      <td>281[4]</td>\n",
       "    </tr>\n",
       "    <tr>\n",
       "      <th>1</th>\n",
       "      <td>AC-130J Ghostrider</td>\n",
       "      <td>Lockheed</td>\n",
       "      <td>USA</td>\n",
       "      <td>Propeller</td>\n",
       "      <td>CAS / Attack</td>\n",
       "      <td>Manned</td>\n",
       "      <td>2017</td>\n",
       "      <td></td>\n",
       "      <td>Replacement for the AC-130U.</td>\n",
       "      <td>6</td>\n",
       "    </tr>\n",
       "    <tr>\n",
       "      <th>2</th>\n",
       "      <td>AC-130W Stinger II</td>\n",
       "      <td>Lockheed</td>\n",
       "      <td>USA</td>\n",
       "      <td>Propeller</td>\n",
       "      <td>CAS / Attack</td>\n",
       "      <td>Manned</td>\n",
       "      <td>1966</td>\n",
       "      <td></td>\n",
       "      <td>Currently being replaced by the AC-130J.</td>\n",
       "      <td>20</td>\n",
       "    </tr>\n",
       "    <tr>\n",
       "      <th>3</th>\n",
       "      <td>B-1B Lancer</td>\n",
       "      <td>Rockwell International</td>\n",
       "      <td>USA</td>\n",
       "      <td>Jet</td>\n",
       "      <td>Bomber</td>\n",
       "      <td>Manned</td>\n",
       "      <td>1986</td>\n",
       "      <td></td>\n",
       "      <td>Employs variable-sweep wing design. To be repl...</td>\n",
       "      <td>45[5]</td>\n",
       "    </tr>\n",
       "    <tr>\n",
       "      <th>4</th>\n",
       "      <td>B-2A Spirit</td>\n",
       "      <td>Northrop Grumman</td>\n",
       "      <td>USA</td>\n",
       "      <td>Jet</td>\n",
       "      <td>Bomber</td>\n",
       "      <td>Manned</td>\n",
       "      <td>1997</td>\n",
       "      <td></td>\n",
       "      <td>Stealth capable aircraft. To be replaced by th...</td>\n",
       "      <td>19</td>\n",
       "    </tr>\n",
       "    <tr>\n",
       "      <th>...</th>\n",
       "      <td>...</td>\n",
       "      <td>...</td>\n",
       "      <td>...</td>\n",
       "      <td>...</td>\n",
       "      <td>...</td>\n",
       "      <td>...</td>\n",
       "      <td>...</td>\n",
       "      <td>...</td>\n",
       "      <td>...</td>\n",
       "      <td>...</td>\n",
       "    </tr>\n",
       "    <tr>\n",
       "      <th>25</th>\n",
       "      <td>MH-60 Seahawk</td>\n",
       "      <td>Sikorsky</td>\n",
       "      <td>USA</td>\n",
       "      <td>Helicopter</td>\n",
       "      <td>Anti-submarine warfare helicopterMulti-mission</td>\n",
       "      <td>Manned</td>\n",
       "      <td>1984</td>\n",
       "      <td></td>\n",
       "      <td></td>\n",
       "      <td>508</td>\n",
       "    </tr>\n",
       "    <tr>\n",
       "      <th>26</th>\n",
       "      <td>TH-57B/C Sea Ranger</td>\n",
       "      <td>Bell</td>\n",
       "      <td>USA</td>\n",
       "      <td>Helicopter</td>\n",
       "      <td>Trainer</td>\n",
       "      <td>Manned</td>\n",
       "      <td>1984</td>\n",
       "      <td></td>\n",
       "      <td>To be replaced by the AgustaWestland TH-57A Th...</td>\n",
       "      <td>114</td>\n",
       "    </tr>\n",
       "    <tr>\n",
       "      <th>27</th>\n",
       "      <td>ScanEagle</td>\n",
       "      <td>Boeing</td>\n",
       "      <td>USA</td>\n",
       "      <td>Propeller</td>\n",
       "      <td></td>\n",
       "      <td>Unmanned</td>\n",
       "      <td>2005</td>\n",
       "      <td></td>\n",
       "      <td></td>\n",
       "      <td></td>\n",
       "    </tr>\n",
       "    <tr>\n",
       "      <th>28</th>\n",
       "      <td>RQ-21A Blackjack</td>\n",
       "      <td>Boeing Insitu</td>\n",
       "      <td>USA</td>\n",
       "      <td>Propeller</td>\n",
       "      <td></td>\n",
       "      <td>Unmanned</td>\n",
       "      <td>2014</td>\n",
       "      <td></td>\n",
       "      <td></td>\n",
       "      <td></td>\n",
       "    </tr>\n",
       "    <tr>\n",
       "      <th>29</th>\n",
       "      <td>MQ-8B Fire Scout</td>\n",
       "      <td>Northrop Grumman</td>\n",
       "      <td>USA</td>\n",
       "      <td>Helicopter</td>\n",
       "      <td>Patrol</td>\n",
       "      <td>Unmanned</td>\n",
       "      <td>2009</td>\n",
       "      <td></td>\n",
       "      <td>Helicopter. 96 planned.[33]</td>\n",
       "      <td>27[27]</td>\n",
       "    </tr>\n",
       "  </tbody>\n",
       "</table>\n",
       "<p>162 rows × 10 columns</p>\n",
       "</div>"
      ],
      "text/plain": [
       "                aircraft            manufacturer origin  propulsion  \\\n",
       "0   A-10C Thunderbolt II      Fairchild Republic    USA         Jet   \n",
       "1     AC-130J Ghostrider                Lockheed    USA   Propeller   \n",
       "2     AC-130W Stinger II                Lockheed    USA   Propeller   \n",
       "3            B-1B Lancer  Rockwell International    USA         Jet   \n",
       "4            B-2A Spirit        Northrop Grumman    USA         Jet   \n",
       "..                   ...                     ...    ...         ...   \n",
       "25         MH-60 Seahawk                Sikorsky    USA  Helicopter   \n",
       "26   TH-57B/C Sea Ranger                    Bell    USA  Helicopter   \n",
       "27             ScanEagle                  Boeing    USA   Propeller   \n",
       "28      RQ-21A Blackjack           Boeing Insitu    USA   Propeller   \n",
       "29      MQ-8B Fire Scout        Northrop Grumman    USA  Helicopter   \n",
       "\n",
       "                                              role   control introduced total  \\\n",
       "0                                     CAS / Attack    Manned       1977         \n",
       "1                                     CAS / Attack    Manned       2017         \n",
       "2                                     CAS / Attack    Manned       1966         \n",
       "3                                           Bomber    Manned       1986         \n",
       "4                                           Bomber    Manned       1997         \n",
       "..                                             ...       ...        ...   ...   \n",
       "25  Anti-submarine warfare helicopterMulti-mission    Manned       1984         \n",
       "26                                         Trainer    Manned       1984         \n",
       "27                                                  Unmanned       2005         \n",
       "28                                                  Unmanned       2014         \n",
       "29                                          Patrol  Unmanned       2009         \n",
       "\n",
       "                                                notes in_service  \n",
       "0                                                         281[4]  \n",
       "1                        Replacement for the AC-130U.          6  \n",
       "2            Currently being replaced by the AC-130J.         20  \n",
       "3   Employs variable-sweep wing design. To be repl...      45[5]  \n",
       "4   Stealth capable aircraft. To be replaced by th...         19  \n",
       "..                                                ...        ...  \n",
       "25                                                           508  \n",
       "26  To be replaced by the AgustaWestland TH-57A Th...        114  \n",
       "27                                                                \n",
       "28                                                                \n",
       "29                        Helicopter. 96 planned.[33]     27[27]  \n",
       "\n",
       "[162 rows x 10 columns]"
      ]
     },
     "execution_count": 9,
     "metadata": {},
     "output_type": "execute_result"
    }
   ],
   "source": [
    "# Combine in_service[x] columns into one\n",
    "cols = ['in_service[1][2][3]', 'in_service[15]', 'in_service[22]', 'in_service[23][24]']\n",
    "df['in_service'] = df[cols].apply(lambda row: ''.join(row.values.astype(str)), axis=1)\n",
    "\n",
    "# Drop columns\n",
    "df = df.drop(columns=cols)\n",
    "df.drop('type', axis=1, inplace=True) # This was merged with aircraft column\n",
    "\n",
    "df.head()"
   ]
  },
  {
   "cell_type": "markdown",
   "metadata": {},
   "source": [
    "### Filtering data"
   ]
  },
  {
   "cell_type": "code",
   "execution_count": null,
   "metadata": {},
   "outputs": [],
   "source": [
    "# Example: Find Aircraft made by Lockheed\n",
    "lockheed = df.loc[df['manufacturer'].str.contains(\"Lockheed\")]\n",
    "lockheed"
   ]
  },
  {
   "cell_type": "markdown",
   "metadata": {},
   "source": [
    "### Sorting data by Date"
   ]
  },
  {
   "cell_type": "code",
   "execution_count": null,
   "metadata": {},
   "outputs": [],
   "source": [
    "# df.sort_values(['introduced'], ascending=[1], inplace=True)"
   ]
  },
  {
   "cell_type": "markdown",
   "metadata": {},
   "source": [
    "### Write the dataframe to parquet format.\n",
    "\n",
    "After preprocessing data using Python, we can convert the dataframe to a format that can be loaded into a visualization tool (e.g., Microsoft PowerBI).\n",
    "\n",
    "- Q. Why parquet format and not csv/excel?\n",
    "- A. Parquet retains dtypes; csv/excel do not\n",
    "\n"
   ]
  },
  {
   "cell_type": "code",
   "execution_count": null,
   "metadata": {},
   "outputs": [],
   "source": [
    "# df.to_parquet('aircraft.parquet', engine='fastparquet') # https://fastparquet.readthedocs.io/en/latest/\n"
   ]
  }
 ],
 "metadata": {
  "kernelspec": {
   "display_name": "Python 3.9.12 ('base')",
   "language": "python",
   "name": "python3"
  },
  "language_info": {
   "codemirror_mode": {
    "name": "ipython",
    "version": 3
   },
   "file_extension": ".py",
   "mimetype": "text/x-python",
   "name": "python",
   "nbconvert_exporter": "python",
   "pygments_lexer": "ipython3",
   "version": "3.9.12"
  },
  "orig_nbformat": 4,
  "vscode": {
   "interpreter": {
    "hash": "d9f92652caf937e3c014a7cd55bec550459a0d7d3175a02673767cc92acf13fb"
   }
  }
 },
 "nbformat": 4,
 "nbformat_minor": 2
}
